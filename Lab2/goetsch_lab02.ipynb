{
 "cells": [
  {
   "cell_type": "markdown",
   "metadata": {},
   "source": [
    "# Lab 2: Benchmarking Binary Heaps\n",
    "\n",
    "> Date: 09/27/2024\n",
    "> Author: Leigh Goetsch\n",
    "> Class: CSC3310\n",
    ">\n",
    "> ### Learning Outcomes\n",
    ">\n",
    "> - Implement a binary heap in Python\n",
    "> - Benchmark the performance of a binary heap\n",
    "> - Analyze the performance of a binary heap\n",
    "\n",
    "## Introduction\n",
    "\n",
    "This lab focuses on benchmarking the performance of a binary heap. The goal is to compare the performance of operations from the heapq library to gain a better understanding of the efficiency of a binary heap.\n"
   ]
  },
  {
   "cell_type": "markdown",
   "metadata": {},
   "source": [
    "## Design Benchmarks\n",
    "\n",
    "Plan out how you intend to benchmark the following operations:\n"
   ]
  },
  {
   "cell_type": "markdown",
   "metadata": {},
   "source": [
    "### heapify\n",
    "\n",
    "Create a heap from a collection. Note that this is not the same procedure as min-heapify but rather the build min heap procedure.\n"
   ]
  },
  {
   "cell_type": "code",
   "execution_count": null,
   "metadata": {},
   "outputs": [],
   "source": [
    "def min_heapify(input_list, i, n):\n",
    "    \"\"\"\n",
    "    Function takes a list and an index and returns a min heapified list.\n",
    "    \"\"\"\n",
    "    left = 2*i\n",
    "    right = 2*i + 1\n",
    "    smallest = i\n",
    "    if left <= n and input_list[left] < input_list[i]:\n",
    "        smallest = left\n",
    "    else:\n",
    "        smallest = i\n",
    "    if right <= n and input_list[right] < input_list[smallest]:\n",
    "        smallest = right\n",
    "    if smallest != i:\n",
    "        input_list[i], input_list[smallest] = input_list[smallest], input_list[i]\n",
    "        min_heapify(input_list, smallest, n)\n",
    "\n",
    "\n",
    "def heapify(input_list):\n",
    "    \"\"\"\n",
    "    Function takes a list and returns a heapified list.\n",
    "    \"\"\"\n",
    "    n = len(input_list)\n",
    "    for i in range(n//2, 0, -1):\n",
    "        min_heapify(input_list, i, n)\n",
    "    return input_list"
   ]
  },
  {
   "cell_type": "markdown",
   "metadata": {},
   "source": [
    "### heappush\n",
    "\n",
    "Push an element to the heap and restore the heap property if necessary.\n"
   ]
  },
  {
   "cell_type": "code",
   "execution_count": null,
   "metadata": {},
   "outputs": [],
   "source": [
    "def heappush(heap, item):\n",
    "    \"\"\"\n",
    "    Function takes a heap and an item and returns a heap with the item added.\n",
    "    \"\"\"\n",
    "    # add the item to the end of the heap\n",
    "    heap.append(item)\n",
    "\n",
    "    # restore the heap property\n",
    "    i = len(heap) - 1\n",
    "    while i > 1 and heap[i//2] < heap[i]:\n",
    "        heap[i], heap[i//2] = heap[i//2], heap[i]\n",
    "        i = i//2\n",
    "\n",
    "    return heap"
   ]
  },
  {
   "cell_type": "markdown",
   "metadata": {},
   "source": [
    "### create_heap_one_by_one\n",
    "\n",
    "Implement a function that creates a heap by adding each element one by one, i.e. invoke heappush n times for n elements.\n"
   ]
  },
  {
   "cell_type": "code",
   "execution_count": null,
   "metadata": {},
   "outputs": [],
   "source": [
    "def create_heap_one_by_one(input_list):\n",
    "    \"\"\"\n",
    "    Function takes a list and returns a heapified list.\n",
    "    \"\"\"\n",
    "    heap = []\n",
    "    for item in input_list:\n",
    "        heap = heappush(heap, item)\n",
    "    return heap"
   ]
  },
  {
   "cell_type": "markdown",
   "metadata": {},
   "source": [
    "### heappop\n",
    "\n",
    "pop and return the smallest item from the heap, maintaining the heap invariant.\n"
   ]
  },
  {
   "cell_type": "code",
   "execution_count": null,
   "metadata": {},
   "outputs": [],
   "source": [
    "def heappop(heap):\n",
    "    \"\"\"\n",
    "    Function takes a heap and returns the smallest element.\n",
    "    \"\"\"\n",
    "    n = len(heap) - 1\n",
    "    if n < 1:\n",
    "        raise ValueError('heap underflow')\n",
    "    min = heap[1]\n",
    "    heap[1] = heap[n]\n",
    "    min_heapify(heap, 1, n-1)\n",
    "    return min"
   ]
  },
  {
   "cell_type": "markdown",
   "metadata": {},
   "source": [
    "### heapsort\n",
    "\n",
    "sort a list of numbers using the heapsort algorithm.\n"
   ]
  },
  {
   "cell_type": "code",
   "execution_count": null,
   "metadata": {},
   "outputs": [],
   "source": [
    "def heap_sort(input_list):\n",
    "    \"\"\"\n",
    "    Function takes a list and returns a sorted list.\n",
    "    \"\"\""
   ]
  },
  {
   "cell_type": "markdown",
   "metadata": {},
   "source": [
    "### Benchmark Functions\n"
   ]
  },
  {
   "cell_type": "code",
   "execution_count": null,
   "metadata": {},
   "outputs": [],
   "source": [
    "import time\n",
    "\n",
    "\n",
    "def benchmark_heapify(input_list):\n",
    "    input_list = input_list.copy()\n",
    "    start_time = time.perf_counter()\n",
    "    heapify(input_list)\n",
    "    end_time = time.perf_counter()\n",
    "    elapsed = end_time - start_time\n",
    "    return elapsed\n",
    "\n",
    "\n",
    "def benchmark_heappush(heap, item):\n",
    "    heap = heap.copy()\n",
    "    start_time = time.perf_counter()\n",
    "    heappush(heap, item)\n",
    "    end_time = time.perf_counter()\n",
    "    elapsed = end_time - start_time\n",
    "    return elapsed\n",
    "\n",
    "\n",
    "def benchmark_create_heap(input_list):\n",
    "    input_list = input_list.copy()\n",
    "    start_time = time.perf_counter()\n",
    "    create_heap_one_by_one(input_list)\n",
    "    end_time = time.perf_counter()\n",
    "    elapsed = end_time - start_time\n",
    "    return elapsed\n",
    "\n",
    "\n",
    "def benchmark_heappop(heap):\n",
    "    heap = heap.copy()\n",
    "    start_time = time.perf_counter()\n",
    "    heappop(heap)\n",
    "    end_time = time.perf_counter()\n",
    "    elapsed = end_time - start_time\n",
    "    return elapsed\n",
    "\n",
    "\n",
    "def benchmark_heap_sort(input_list):\n",
    "    input_list = input_list.copy()\n",
    "    start_time = time.perf_counter()\n",
    "    heap_sort(input_list)\n",
    "    end_time = time.perf_counter()\n",
    "    elapsed = end_time - start_time\n",
    "    return elapsed"
   ]
  },
  {
   "cell_type": "markdown",
   "metadata": {},
   "source": [
    "## Perform Benchmarks\n",
    "\n",
    "Implement and run the benchmarks\n"
   ]
  },
  {
   "cell_type": "code",
   "execution_count": null,
   "metadata": {},
   "outputs": [],
   "source": [
    "# set up benchmarking lists\n",
    "import random\n",
    "\n",
    "heap_sizes = [100, 500, 1000, 5000, 10000, 25000]\n",
    "benchmark_lists = {\n",
    "    \"best\": [list(range(n)) for n in heap_sizes],\n",
    "    \"worst\": [list(range(n, 0, -1)) for n in heap_sizes],\n",
    "    \"average\": [random.sample(range(n), n) for n in heap_sizes]\n",
    "}\n",
    "\n",
    "\n",
    "# run benchmarks\n",
    "for case, lst in benchmark_lists.items():\n",
    "    for algo in benchmark_results.keys():\n",
    "        print(f\"Running {algo.__name__} on {case} case\")\n",
    "        benchmark_results[algo][case] = [\n",
    "            benchmark(algo, lst) for lst in benchmark_lists[case]]"
   ]
  },
  {
   "cell_type": "markdown",
   "metadata": {},
   "source": [
    "## Validating Formal Run Times\n",
    "\n",
    "Using functions from lab 1 to estimate the big-o complexity for each of the heapq operations.\n"
   ]
  },
  {
   "cell_type": "code",
   "execution_count": null,
   "metadata": {},
   "outputs": [],
   "source": [
    "import numpy as np\n",
    "from scipy.stats import linregress\n",
    "\n",
    "# fit a linear regression model to the log of the list\n",
    "# sizes (s) and run times (r) to estimate the slope (m)\n",
    "# log r = m log s + b\n",
    "\n",
    "\n",
    "def estimate_slope(list_sizes, run_times):\n",
    "    '''\n",
    "    Function takes a list of list sizes and a list of run times\n",
    "    and returns the slope of the linear regression model.\n",
    "    '''\n",
    "    m, b, _, _, _ = linregress(np.log(list_sizes), np.log(run_times))\n",
    "    return m\n",
    "\n",
    "\n",
    "def get_complexity(m):\n",
    "    '''\n",
    "    Function takes the slope of the linear regression model\n",
    "    and returns the complexity of the algorithm.\n",
    "    '''\n",
    "    if m == 0:\n",
    "        return \"Constant\"\n",
    "    elif m < 1:\n",
    "        return \"Sub-linear (e.g., log n)\"\n",
    "    elif m == 1:\n",
    "        return \"Linear\"\n",
    "    elif m > 1 and m < 2:\n",
    "        return \"Between linear and quadratic (e.g., n log n)\"\n",
    "    elif m == 2:\n",
    "        return \"Quadratic (e.g., n^2)\"\n",
    "    elif m > 2 and m < 3:\n",
    "        return \"Between quadratic and cubic (e.g., n^2 log n)\"\n",
    "    elif m == 3:\n",
    "        return \"Cubic (e.g., n^3)\"\n",
    "    else:\n",
    "        return \"Out of Scope\""
   ]
  },
  {
   "cell_type": "code",
   "execution_count": null,
   "metadata": {},
   "outputs": [],
   "source": [
    "# Validate the the formal run time complexity of the algorithms\n",
    "for operation, results in benchmark_results.items():\n",
    "    print(f\"Algorithm: {operation.__name__}\")\n",
    "    for case, run_times in results.items():\n",
    "        m = estimate_slope(list_sizes, run_times)\n",
    "        complexity = get_complexity(m)\n",
    "        print(f\"Case: {case}\")\n",
    "        print(f\"Estimated Slope: {m}\")\n",
    "        print(f\"Complexity: {complexity}\")\n",
    "        print()"
   ]
  },
  {
   "cell_type": "markdown",
   "metadata": {},
   "source": [
    "## Reflection Questions\n"
   ]
  }
 ],
 "metadata": {
  "kernelspec": {
   "display_name": "venv",
   "language": "python",
   "name": "python3"
  },
  "language_info": {
   "name": "python",
   "version": "3.12.7"
  }
 },
 "nbformat": 4,
 "nbformat_minor": 2
}
