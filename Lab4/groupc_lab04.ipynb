{
 "cells": [
  {
   "cell_type": "markdown",
   "metadata": {},
   "source": [
    "# Lab 4: Divide and Conquer Algorithms\n",
    "\n",
    "> Date: 11/08/2024\n",
    "> Author: Adam Haile, Leigh Goetsch, Aiden Miller\n",
    "> Class: CSC3310\n",
    ">\n",
    "> ### Learning Outcomes\n",
    ">\n",
    "> - Design an algorithm for a given computational problem statement\n",
    "> - Justify the correctness of an algorithm\n",
    "> - Perform asymptotic complexity analysis of the run time of an algorithm\n",
    "> - Generate test cases for an algorithm\n",
    "> - Correctly implement an algorithm from pseudocode\n",
    "> - Design and execute benchmarks for an algorithm\n",
    "\n"
   ]
  }
 ],
 "metadata": {
  "language_info": {
   "name": "python"
  }
 },
 "nbformat": 4,
 "nbformat_minor": 2
}
