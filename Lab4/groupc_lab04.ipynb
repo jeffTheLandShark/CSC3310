{
 "cells": [
  {
   "cell_type": "markdown",
   "metadata": {},
   "source": [
    "# Lab 4: Divide and Conquer Algorithms\n",
    "\n",
    "> Date: 11/08/2024\n",
    "> Author: Adam Haile, Leigh Goetsch, Aiden Miller\n",
    "> Class: CSC3310\n",
    ">\n",
    "> ### Learning Outcomes\n",
    ">\n",
    "> - Design an algorithm for a given computational problem statement\n",
    "> - Justify the correctness of an algorithm\n",
    "> - Perform asymptotic complexity analysis of the run time of an algorithm\n",
    "> - Generate test cases for an algorithm\n",
    "> - Correctly implement an algorithm from pseudocode\n",
    "> - Design and execute benchmarks for an algorithm\n",
    "\n"
   ]
  },
  {
   "cell_type": "markdown",
   "metadata": {},
   "source": [
    "## Proposed Solution - Quickselect Algorithm\n",
    "The quickselect algorithm is similar to the quicksort algorith, but with modifications so that it instead returns the $k^{th}$ smallest value in lstay, rather than a sorted lstay."
   ]
  },
  {
   "cell_type": "code",
   "execution_count": null,
   "metadata": {},
   "outputs": [],
   "source": [
    "import random"
   ]
  },
  {
   "cell_type": "code",
   "execution_count": 36,
   "metadata": {},
   "outputs": [],
   "source": [
    "def partition(lst, low, high):\n",
    "    pivot_index = random.randint(low, high)\n",
    "    lst[pivot_index], lst[high] = lst[high], lst[pivot_index]\n",
    "    pivot = lst[high]\n",
    "    \n",
    "    i = low\n",
    "    for j in range(low, high):\n",
    "        if lst[j] < pivot:\n",
    "            lst[i], lst[j] = lst[j], lst[i]\n",
    "            i += 1\n",
    "    lst[i], lst[high] = lst[high], lst[i]\n",
    "    return i\n",
    "\n",
    "def select(lst, low, high, k_smallest):\n",
    "    if low == high:\n",
    "        return lst[low]\n",
    "    \n",
    "    pivot_index = partition(lst, low, high)\n",
    "    \n",
    "    if k_smallest == pivot_index:\n",
    "        return lst[k_smallest]\n",
    "    elif k_smallest < pivot_index:\n",
    "        return select(lst, low, pivot_index - 1, k_smallest)\n",
    "    else:\n",
    "        return select(lst, pivot_index + 1, high, k_smallest)\n",
    "\n",
    "def quickselect(lst, k):\n",
    "    return select(lst, 0, len(lst) - 1, k - 1)"
   ]
  },
  {
   "cell_type": "markdown",
   "metadata": {},
   "source": [
    "## Tests\n"
   ]
  },
  {
   "cell_type": "code",
   "execution_count": 43,
   "metadata": {},
   "outputs": [
    {
     "name": "stdout",
     "output_type": "stream",
     "text": [
      "[82, 15, 4, 95, 36, 32, 29, 18, 14, 87]\n",
      "[4, 14, 15, 18, 29, 32, 36, 82, 87, 95]\n"
     ]
    }
   ],
   "source": [
    "def create_random_list(n, min=1, max=100):\n",
    "    random.seed(42)\n",
    "    return random.sample(range(min, max), n)\n",
    "lst = create_random_list(10)\n",
    "sorted_lst = sorted(lst)\n",
    "print(lst)\n",
    "print(sorted_lst)"
   ]
  },
  {
   "cell_type": "code",
   "execution_count": null,
   "metadata": {},
   "outputs": [],
   "source": [
    "# Test one (sunny path): Ensure that the kth smallest element is correct\n",
    "for x in range(1, 11):\n",
    "    assert quickselect(lst, x) == sorted_lst[x - 1]"
   ]
  },
  {
   "cell_type": "code",
   "execution_count": null,
   "metadata": {},
   "outputs": [],
   "source": [
    "# Test 2, excessive duplicate elements\n",
    "lst = [1, 1, 1, 1, 1, 2, 1, 1, 1, 1] #9 1's and 1 2\n",
    "for x in range(1, 10):\n",
    "    assert quickselect(lst, x) == 1\n",
    "assert quickselect(lst, 10) == 2"
   ]
  },
  {
   "cell_type": "code",
   "execution_count": 74,
   "metadata": {},
   "outputs": [
    {
     "name": "stdout",
     "output_type": "stream",
     "text": [
      "[26, 105, 115, 143, 229, 251, 282, 655, 755, 760, 36642940499726746, 108023259460586095, 118168890076913834, 128355989445507486, 160876273137374943, 282341088111907416, 628764812031418705, 680791512660942723, 853931770133622126, 854949519964969682]\n"
     ]
    }
   ],
   "source": [
    "# Test 3, wildly varying elements\n",
    "lst1 = create_random_list(10, 1, 1000)\n",
    "lst2 = create_random_list(10, 1, 1000000000000000000) #19 zeroes causes a C ssize_t error\n",
    "lst = lst1 + lst2\n",
    "sorted_lst = sorted(lst)\n",
    "for x in range(1, 11):\n",
    "    assert quickselect(lst, x) == sorted_lst[x - 1]\n",
    "print(sorted_lst)"
   ]
  },
  {
   "cell_type": "code",
   "execution_count": null,
   "metadata": {},
   "outputs": [],
   "source": [
    "# Test 4, random shuffling\n",
    "lst = create_random_list(10)\n",
    "sorted_lst = sorted(lst)\n",
    "for x in range(0, 10):\n",
    "    random.shuffle(lst)\n",
    "    for x in range(1, 11):\n",
    "        assert quickselect(lst, x) == sorted_lst[x - 1]"
   ]
  },
  {
   "cell_type": "code",
   "execution_count": null,
   "metadata": {},
   "outputs": [],
   "source": [
    "# Test 5, 2 elements\n",
    "lst = [2, 1]\n",
    "assert quickselect(lst, 1) == 1\n",
    "assert quickselect(lst, 2) == 2"
   ]
  },
  {
   "cell_type": "code",
   "execution_count": null,
   "metadata": {},
   "outputs": [],
   "source": [
    "# Test 6, 10000 items\n",
    "lst = create_random_list(10000, min=1, max=100000)\n",
    "sorted_lst = sorted(lst)\n",
    "for x in range(1, 10001):\n",
    "    assert quickselect(lst, x) == sorted_lst[x - 1]"
   ]
  },
  {
   "cell_type": "markdown",
   "metadata": {},
   "source": [
    "- Test 1: Test 10 elements to ensure that the kth smallest element corresponds to the [k-1]th index of a sorted list, Result: Pass\n",
    "- Test 2: Test to ensure that lots of duplicate elements are handled correctly , Result: Pass\n",
    "- Test 3: Wildly small and large values, Result: Pass\n",
    "- Test 4: Shuffle list and check, ensuring that there isn't a dependence on ordering, Result: Pass\n",
    "- Test 5: 2 element list, Result: Pass\n",
    "- Test 6: 10000 element list, Result: Pass"
   ]
  },
  {
   "cell_type": "code",
   "execution_count": null,
   "metadata": {
    "vscode": {
     "languageId": "tex"
    }
   },
   "outputs": [],
   "source": []
  },
  {
   "cell_type": "markdown",
   "metadata": {},
   "source": [
    "## Benchmarks\n",
    "\n",
    "Benchmark your implementation versus an approach that sorts the numbers and picks\n",
    "the element at index k – 1. You should include a table and graph from benchmarking\n",
    "different lists with different sizes of numbers. The benchmarks should support your\n",
    "theoretically-derived run time and provide evidence that the run time of your algorithm\n",
    "grows more slowly than the sorting approach."
   ]
  },
  {
   "cell_type": "markdown",
   "metadata": {},
   "source": []
  }
 ],
 "metadata": {
  "kernelspec": {
   "display_name": "Python 3",
   "language": "python",
   "name": "python3"
  },
  "language_info": {
   "codemirror_mode": {
    "name": "ipython",
    "version": 3
   },
   "file_extension": ".py",
   "mimetype": "text/x-python",
   "name": "python",
   "nbconvert_exporter": "python",
   "pygments_lexer": "ipython3",
   "version": "3.12.6"
  }
 },
 "nbformat": 4,
 "nbformat_minor": 2
}
