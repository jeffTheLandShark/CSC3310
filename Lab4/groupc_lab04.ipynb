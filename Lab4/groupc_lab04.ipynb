{
 "cells": [
  {
   "cell_type": "markdown",
   "metadata": {},
   "source": [
    "# Lab 4: Divide and Conquer Algorithms\n",
    "\n",
    "> Date: 11/08/2024\n",
    "> Author: Adam Haile, Leigh Goetsch, Aiden Miller\n",
    "> Class: CSC3310\n",
    ">\n",
    "> ### Learning Outcomes\n",
    ">\n",
    "> - Design an algorithm for a given computational problem statement\n",
    "> - Justify the correctness of an algorithm\n",
    "> - Perform asymptotic complexity analysis of the run time of an algorithm\n",
    "> - Generate test cases for an algorithm\n",
    "> - Correctly implement an algorithm from pseudocode\n",
    "> - Design and execute benchmarks for an algorithm\n",
    "\n"
   ]
  },
  {
   "cell_type": "markdown",
   "metadata": {},
   "source": [
    "## Proposed Solution - Quickselect Algorithm\n",
    "The quickselect algorithm is similar to the quicksort algorith, but with modifications so that it instead returns the $k^{th}$ smallest value in lstay, rather than a sorted lstay."
   ]
  },
  {
   "cell_type": "code",
   "execution_count": 9,
   "metadata": {},
   "outputs": [],
   "source": [
    "import random"
   ]
  },
  {
   "cell_type": "code",
   "execution_count": null,
   "metadata": {},
   "outputs": [],
   "source": [
    "def quickselect(lst, k):\n",
    "\n",
    "    def partition(low, high):\n",
    "        pivot_index = random.randint(low, high)\n",
    "        lst[pivot_index], lst[high] = lst[high], lst[pivot_index]\n",
    "        pivot = lst[high]\n",
    "        \n",
    "        i = low\n",
    "        for j in range(low, high):\n",
    "            if lst[j] < pivot:\n",
    "                lst[i], lst[j] = lst[j], lst[i]\n",
    "                i += 1\n",
    "        lst[i], lst[high] = lst[high], lst[i]\n",
    "        return i\n",
    "\n",
    "    def select(low, high, k_smallest):\n",
    "        if low == high:\n",
    "            return lst[low]\n",
    "        \n",
    "        pivot_index = partition(low, high)\n",
    "        \n",
    "        if k_smallest == pivot_index:\n",
    "            return lst[k_smallest]\n",
    "        elif k_smallest < pivot_index:\n",
    "            return select(low, pivot_index - 1, k_smallest)\n",
    "        else:\n",
    "            return select(pivot_index + 1, high, k_smallest)\n",
    "\n",
    "    return select(0, len(lst) - 1, k - 1)"
   ]
  }
 ],
 "metadata": {
  "kernelspec": {
   "display_name": "Python 3",
   "language": "python",
   "name": "python3"
  },
  "language_info": {
   "codemirror_mode": {
    "name": "ipython",
    "version": 3
   },
   "file_extension": ".py",
   "mimetype": "text/x-python",
   "name": "python",
   "nbconvert_exporter": "python",
   "pygments_lexer": "ipython3",
   "version": "3.12.6"
  }
 },
 "nbformat": 4,
 "nbformat_minor": 2
}
