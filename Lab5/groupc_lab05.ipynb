{
 "cells": [
  {
   "cell_type": "markdown",
   "metadata": {},
   "source": [
    "# Lab 5: Choice Algorithm\n",
    "11/15/2024 - Adam Haile, Aiden Miller, Leigh Goetsch, Class: CSC3310"
   ]
  },
  {
   "cell_type": "code",
   "execution_count": null,
   "metadata": {},
   "outputs": [],
   "source": [
    "from typing import Any, List"
   ]
  },
  {
   "cell_type": "code",
   "execution_count": 3,
   "metadata": {},
   "outputs": [],
   "source": [
    "class Node():\n",
    "    def __init__(self, value: Any, parent: 'Node' = None, left: 'Node' = None, right: 'Node' = None):\n",
    "        self.value = value\n",
    "        self.parent = parent\n",
    "        self.left = left\n",
    "        self.right = right"
   ]
  },
  {
   "cell_type": "code",
   "execution_count": null,
   "metadata": {},
   "outputs": [],
   "source": [
    "class SGTree():\n",
    "    def __init__(self, root: Node = None):\n",
    "        self.root = root\n",
    "\n",
    "    def insert(self, value: Any) -> None:\n",
    "        raise NotImplementedError(\"This method is not implemented yet.\")\n",
    "    \n",
    "    def size(self) -> int:\n",
    "        raise NotImplementedError(\"This method is not implemented yet.\")\n",
    "    \n",
    "    def contains(self, value: Any) -> bool:\n",
    "        raise NotImplementedError(\"This method is not implemented yet.\")\n",
    "    \n",
    "    def delete(self, value: Any) -> None:\n",
    "        raise NotImplementedError(\"This method is not implemented yet.\")\n",
    "    \n",
    "    def to_list(self) -> List[Any]:\n",
    "        raise NotImplementedError(\"This method is not implemented yet.\")"
   ]
  }
 ],
 "metadata": {
  "kernelspec": {
   "display_name": "Python 3",
   "language": "python",
   "name": "python3"
  },
  "language_info": {
   "codemirror_mode": {
    "name": "ipython",
    "version": 3
   },
   "file_extension": ".py",
   "mimetype": "text/x-python",
   "name": "python",
   "nbconvert_exporter": "python",
   "pygments_lexer": "ipython3",
   "version": "3.12.6"
  }
 },
 "nbformat": 4,
 "nbformat_minor": 2
}
